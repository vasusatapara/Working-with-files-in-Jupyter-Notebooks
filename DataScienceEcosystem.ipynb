{
 "cells": [
  {
   "cell_type": "markdown",
   "id": "7c3f9802",
   "metadata": {},
   "source": [
    "# Data Science Tools and Ecosystem"
   ]
  },
  {
   "cell_type": "markdown",
   "id": "185879fc",
   "metadata": {},
   "source": [
    "In this notebook, Data Science Tools and Ecosystem are summarized."
   ]
  },
  {
   "cell_type": "markdown",
   "id": "e025c227",
   "metadata": {},
   "source": [
    "Some of the popular languages that Data Scientists use are:\n",
    "    1 Python\n",
    "    2 R\n",
    "    3 C/C++"
   ]
  },
  {
   "cell_type": "markdown",
   "id": "cc162267",
   "metadata": {},
   "source": [
    "Some of the commonly used libraries used by Data Scientists include:\n",
    "    1 pandas\n",
    "    2 ggplot\n",
    "    3 NumPy   "
   ]
  },
  {
   "cell_type": "markdown",
   "id": "a6f2064d",
   "metadata": {},
   "source": [
    "# Data Science Tools\n",
    "____________________\n",
    "| Jupyte note book | \n",
    "____________________\n",
    "|  Github          |  \n",
    "____________________\n",
    "|  Python          | \n",
    "____________________\n",
    "|  R               | \n",
    "____________________"
   ]
  },
  {
   "cell_type": "markdown",
   "id": "54565901",
   "metadata": {},
   "source": [
    "# Below are a few examples of evaluating arithmetic expressions in Python\n",
    "a=1\n",
    "b=3\n",
    "c=a+b\n",
    "d=b/a\n"
   ]
  },
  {
   "cell_type": "code",
   "execution_count": 1,
   "id": "acd7489f",
   "metadata": {},
   "outputs": [
    {
     "name": "stdout",
     "output_type": "stream",
     "text": [
      "17\n"
     ]
    }
   ],
   "source": [
    "#This a simple arithmetic expression to mutiply then add integers\n",
    "a=(3*4)+5\n",
    "print(a)"
   ]
  },
  {
   "cell_type": "code",
   "execution_count": 16,
   "id": "a13e9c7d",
   "metadata": {},
   "outputs": [
    {
     "name": "stdout",
     "output_type": "stream",
     "text": [
      "200 minutes in hours is\n",
      "3.3333333333333335\n"
     ]
    }
   ],
   "source": [
    "#This will convert 200 minutes to hours by diving by 60\n",
    "a= 200\n",
    "hours = a/60 \n",
    "print('200 minutes in hours is')\n",
    "print (hours)"
   ]
  },
  {
   "cell_type": "markdown",
   "id": "cc3558ea",
   "metadata": {},
   "source": [
    "# Objectives:\n",
    "* Python *  R  *  C/C++\n"
   ]
  },
  {
   "cell_type": "markdown",
   "id": "ba974142",
   "metadata": {},
   "source": [
    "# Author\n",
    "    Vasudev Satapara"
   ]
  }
 ],
 "metadata": {
  "kernelspec": {
   "display_name": "Python 3 (ipykernel)",
   "language": "python",
   "name": "python3"
  },
  "language_info": {
   "codemirror_mode": {
    "name": "ipython",
    "version": 3
   },
   "file_extension": ".py",
   "mimetype": "text/x-python",
   "name": "python",
   "nbconvert_exporter": "python",
   "pygments_lexer": "ipython3",
   "version": "3.9.12"
  }
 },
 "nbformat": 4,
 "nbformat_minor": 5
}
